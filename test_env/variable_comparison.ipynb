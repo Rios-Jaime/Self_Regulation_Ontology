{
 "cells": [
  {
   "cell_type": "code",
   "execution_count": 1,
   "metadata": {},
   "outputs": [],
   "source": [
    "import numpy as np\n",
    "import pandas as pd\n",
    "from utils.clean_utils import transform_remove_skew, remove_outliers, remove_correlated_task_variables, drop_vars\n",
    "import re"
   ]
  },
  {
   "cell_type": "code",
   "execution_count": 2,
   "metadata": {},
   "outputs": [],
   "source": [
    "HDDm_full = pd.read_csv('HDDM_meaningful_variables.csv', index_col='Unnamed: 0')\n",
    "HDDm_clean = pd.read_csv('HDDM_meaningful_variables_clean.csv', index_col='Unnamed: 0')\n",
    "rtACC_full = pd.read_csv('meaningful_variables.csv', index_col='Unnamed: 0')\n",
    "rtACC_clean = pd.read_csv('meaningful_variables_clean.csv', index_col='Unnamed: 0')"
   ]
  },
  {
   "cell_type": "code",
   "execution_count": 3,
   "metadata": {},
   "outputs": [
    {
     "name": "stdout",
     "output_type": "stream",
     "text": [
      "204\n",
      "193\n",
      "241\n",
      "204\n"
     ]
    }
   ],
   "source": [
    "print(len(HDDm_full.columns))\n",
    "print(len(HDDm_clean.columns))\n",
    "print(len(rtACC_full.columns))\n",
    "print(len(rtACC_clean.columns))"
   ]
  },
  {
   "cell_type": "code",
   "execution_count": 4,
   "metadata": {},
   "outputs": [],
   "source": [
    "task_HDDm_full = drop_vars(HDDm_full, ['survey'], saved_vars = ['holt','cognitive_reflection'])\n",
    "task_HDDm_clean = drop_vars(HDDm_clean, ['survey'], saved_vars = ['holt','cognitive_reflection'])\n",
    "task_rtACC_full = drop_vars(rtACC_full, ['survey'], saved_vars = ['holt','cognitive_reflection'])\n",
    "task_rtACC_clean = drop_vars(rtACC_clean, ['survey'], saved_vars = ['holt','cognitive_reflection'])"
   ]
  },
  {
   "cell_type": "code",
   "execution_count": 5,
   "metadata": {},
   "outputs": [
    {
     "name": "stdout",
     "output_type": "stream",
     "text": [
      "138\n",
      "129\n",
      "175\n",
      "140\n"
     ]
    }
   ],
   "source": [
    "print(len(task_HDDm_full.columns))\n",
    "print(len(task_HDDm_clean.columns))\n",
    "print(len(task_rtACC_full.columns))\n",
    "print(len(task_rtACC_clean.columns))"
   ]
  },
  {
   "cell_type": "code",
   "execution_count": 6,
   "metadata": {},
   "outputs": [],
   "source": [
    "def intersection(lst1, lst2): \n",
    "    return list(set(lst1) & set(lst2))"
   ]
  },
  {
   "cell_type": "code",
   "execution_count": 7,
   "metadata": {},
   "outputs": [],
   "source": [
    "def tr_strip(l):\n",
    "    return [i.replace('.logTr', '').replace('.ReflogTr', '') for i in l]"
   ]
  },
  {
   "cell_type": "markdown",
   "metadata": {},
   "source": [
    "## intersection\n",
    "1) clean intersection\n",
    "2) full intersection\n",
    "3) difference"
   ]
  },
  {
   "cell_type": "code",
   "execution_count": 16,
   "metadata": {},
   "outputs": [
    {
     "name": "stdout",
     "output_type": "stream",
     "text": [
      "64\n"
     ]
    }
   ],
   "source": [
    "task_clean_intersect = intersection(task_HDDm_clean, task_rtACC_clean)\n",
    "task_clean_intersect.sort()\n",
    "print(len(task_clean_intersect))\n",
    "# task_clean_intersect"
   ]
  },
  {
   "cell_type": "code",
   "execution_count": 17,
   "metadata": {},
   "outputs": [
    {
     "name": "stdout",
     "output_type": "stream",
     "text": [
      "75\n"
     ]
    }
   ],
   "source": [
    "task_full_intersect = intersection(task_HDDm_full, task_rtACC_full)\n",
    "task_full_intersect.sort()\n",
    "print(len(task_full_intersect))\n",
    "# task_full_intersect"
   ]
  },
  {
   "cell_type": "code",
   "execution_count": 18,
   "metadata": {},
   "outputs": [
    {
     "name": "stdout",
     "output_type": "stream",
     "text": [
      "11\n"
     ]
    }
   ],
   "source": [
    "out = list(set(task_full_intersect) - set(tr_strip(task_clean_intersect)))\n",
    "print(len(out))\n",
    "out.sort()\n",
    "# out"
   ]
  },
  {
   "cell_type": "markdown",
   "metadata": {},
   "source": [
    "## HDDM unique\n",
    "1) clean unique\n",
    "2) full unique\n",
    "3) difference"
   ]
  },
  {
   "cell_type": "code",
   "execution_count": 19,
   "metadata": {},
   "outputs": [
    {
     "name": "stdout",
     "output_type": "stream",
     "text": [
      "65\n"
     ]
    }
   ],
   "source": [
    "task_clean_HDDM_unique = list(set(task_HDDm_clean) - set(task_rtACC_clean))\n",
    "task_clean_HDDM_unique.sort()\n",
    "print(len(task_clean_HDDM_unique))"
   ]
  },
  {
   "cell_type": "code",
   "execution_count": 20,
   "metadata": {},
   "outputs": [
    {
     "name": "stdout",
     "output_type": "stream",
     "text": [
      "63\n"
     ]
    }
   ],
   "source": [
    "task_full_HDDM_unique = list(set(task_HDDm_full) - set(task_rtACC_full))\n",
    "task_full_HDDM_unique.sort()\n",
    "print(len(task_full_HDDM_unique))"
   ]
  },
  {
   "cell_type": "code",
   "execution_count": 24,
   "metadata": {},
   "outputs": [
    {
     "data": {
      "text/plain": [
       "{'go_nogo.dprime', 'hierarchical_rule.score'}"
      ]
     },
     "execution_count": 24,
     "metadata": {},
     "output_type": "execute_result"
    }
   ],
   "source": [
    "set(task_full_HDDM_unique) - set(tr_strip(task_clean_HDDM_unique))\n",
    "\n",
    "set(tr_strip(task_clean_HDDM_unique)) - set(task_full_HDDM_unique)"
   ]
  },
  {
   "cell_type": "markdown",
   "metadata": {},
   "source": [
    "## RT/ACC unique\n",
    "1) clean unique\n",
    "2) full unique\n",
    "3) difference"
   ]
  },
  {
   "cell_type": "code",
   "execution_count": 25,
   "metadata": {},
   "outputs": [
    {
     "name": "stdout",
     "output_type": "stream",
     "text": [
      "76\n"
     ]
    }
   ],
   "source": [
    "task_clean_rtACC_unique = list(set(task_rtACC_clean) - set(task_HDDm_clean))\n",
    "task_clean_rtACC_unique.sort()\n",
    "print(len(task_clean_rtACC_unique))"
   ]
  },
  {
   "cell_type": "code",
   "execution_count": 26,
   "metadata": {},
   "outputs": [
    {
     "name": "stdout",
     "output_type": "stream",
     "text": [
      "100\n"
     ]
    }
   ],
   "source": [
    "task_full_rtACC_unique = list(set(task_rtACC_full) - set(task_HDDm_full))\n",
    "task_full_rtACC_unique.sort()\n",
    "print(len(task_full_rtACC_unique))"
   ]
  },
  {
   "cell_type": "code",
   "execution_count": null,
   "metadata": {},
   "outputs": [],
   "source": []
  },
  {
   "cell_type": "code",
   "execution_count": 27,
   "metadata": {},
   "outputs": [
    {
     "data": {
      "text/plain": [
       "{'attention_network_task.congruent_rt',\n",
       " 'attention_network_task.incongruent_rt',\n",
       " 'attention_network_task.neutral_rt',\n",
       " 'directed_forgetting.acc',\n",
       " 'dot_pattern_expectancy.acc',\n",
       " 'dot_pattern_expectancy.avg_rt',\n",
       " 'information_sampling_task.Fixed_Win_acc',\n",
       " 'local_global_letter.congruent_rt',\n",
       " 'local_global_letter.global_congruent_rt',\n",
       " 'local_global_letter.incongruent_harm_acc',\n",
       " 'local_global_letter.incongruent_rt',\n",
       " 'local_global_letter.local_congruent_rt',\n",
       " 'motor_selective_stop_signal.ignore_acc',\n",
       " 'probabilistic_selection.avoid_trial_rt',\n",
       " 'psychological_refractory_period_two_choices.task1_acc',\n",
       " 'psychological_refractory_period_two_choices.task2_acc',\n",
       " 'shape_matching.acc',\n",
       " 'simon.acc',\n",
       " 'simon.congruent_acc',\n",
       " 'simon.congruent_avg_rt',\n",
       " 'simon.incongruent_avg_rt',\n",
       " 'stroop.acc',\n",
       " 'stroop.congruent_rt',\n",
       " 'stroop.incongruent_rt'}"
      ]
     },
     "execution_count": 27,
     "metadata": {},
     "output_type": "execute_result"
    }
   ],
   "source": [
    "set(task_full_rtACC_unique) - set(tr_strip(task_clean_rtACC_unique))"
   ]
  },
  {
   "cell_type": "markdown",
   "metadata": {},
   "source": [
    "#### Misc me figuring things out"
   ]
  },
  {
   "cell_type": "code",
   "execution_count": 28,
   "metadata": {},
   "outputs": [
    {
     "data": {
      "text/plain": [
       "24"
      ]
     },
     "execution_count": 28,
     "metadata": {},
     "output_type": "execute_result"
    }
   ],
   "source": [
    "len(set(task_full_rtACC_unique) - set(tr_strip(task_clean_rtACC_unique)))"
   ]
  },
  {
   "cell_type": "code",
   "execution_count": 29,
   "metadata": {},
   "outputs": [
    {
     "data": {
      "text/plain": [
       "['adaptive_n_back.acc.ReflogTr',\n",
       " 'adaptive_n_back.avg_rt',\n",
       " 'attention_network_task.acc.ReflogTr',\n",
       " 'attention_network_task.alerting_acc',\n",
       " 'attention_network_task.alerting_rt',\n",
       " 'attention_network_task.avg_rt',\n",
       " 'attention_network_task.conflict_acc.ReflogTr',\n",
       " 'attention_network_task.conflict_rt.logTr',\n",
       " 'attention_network_task.orienting_acc',\n",
       " 'attention_network_task.orienting_rt',\n",
       " 'choice_reaction_time.acc.ReflogTr',\n",
       " 'choice_reaction_time.avg_rt.logTr',\n",
       " 'directed_forgetting.avg_rt',\n",
       " 'directed_forgetting.proactive_interference_acc.logTr',\n",
       " 'directed_forgetting.proactive_interference_rt',\n",
       " 'dot_pattern_expectancy.AX_rt.logTr',\n",
       " 'dot_pattern_expectancy.AY-BY_acc.ReflogTr',\n",
       " 'dot_pattern_expectancy.AY-BY_rt',\n",
       " 'dot_pattern_expectancy.AY_rt',\n",
       " 'dot_pattern_expectancy.BX-BY_acc.ReflogTr',\n",
       " 'dot_pattern_expectancy.BX-BY_rt.ReflogTr',\n",
       " 'dot_pattern_expectancy.BX_rt.logTr',\n",
       " 'dot_pattern_expectancy.BY_rt',\n",
       " 'go_nogo.acc.ReflogTr',\n",
       " 'hierarchical_rule.acc',\n",
       " 'hierarchical_rule.avg_rt',\n",
       " 'information_sampling_task.Decreasing_Win_acc',\n",
       " 'local_global_letter.acc.ReflogTr',\n",
       " 'local_global_letter.avg_rt',\n",
       " 'local_global_letter.conflict_acc.ReflogTr',\n",
       " 'local_global_letter.conflict_rt',\n",
       " 'local_global_letter.congruent_facilitation_acc.ReflogTr',\n",
       " 'local_global_letter.congruent_facilitation_rt',\n",
       " 'local_global_letter.global_bias_acc',\n",
       " 'local_global_letter.global_bias_rt',\n",
       " 'local_global_letter.global_conflict_rt',\n",
       " 'local_global_letter.global_incongruent_rt',\n",
       " 'local_global_letter.incongruent_harm_rt',\n",
       " 'local_global_letter.local_conflict_rt',\n",
       " 'local_global_letter.local_incongruent_rt',\n",
       " 'local_global_letter.switch_cost_acc',\n",
       " 'local_global_letter.switch_cost_rt',\n",
       " 'motor_selective_stop_signal.ignore_rt_error',\n",
       " 'motor_selective_stop_signal.ignore_rt_error_std.logTr',\n",
       " 'motor_selective_stop_signal.proactive_control_rt.logTr',\n",
       " 'motor_selective_stop_signal.reactive_control_rt',\n",
       " 'probabilistic_selection.approach_trial_acc',\n",
       " 'probabilistic_selection.approach_trial_rt',\n",
       " 'probabilistic_selection.avoid_trial_acc',\n",
       " 'probabilistic_selection.overall_test_acc',\n",
       " 'recent_probes.acc.ReflogTr',\n",
       " 'recent_probes.avg_rt',\n",
       " 'recent_probes.proactive_interference_acc',\n",
       " 'recent_probes.proactive_interference_rt',\n",
       " 'shape_matching.avg_rt.logTr',\n",
       " 'shift_task.avg_rt',\n",
       " 'simon.avg_rt.logTr',\n",
       " 'simon.congruent_sd_rt.logTr',\n",
       " 'simon.incongruent_acc.ReflogTr',\n",
       " 'simon.incongruent_sd_rt.logTr',\n",
       " 'simon.simon_acc.ReflogTr',\n",
       " 'simon.simon_rt',\n",
       " 'stim_selective_stop_signal.ignore_acc.ReflogTr',\n",
       " 'stim_selective_stop_signal.ignore_rt_error',\n",
       " 'stim_selective_stop_signal.ignore_rt_error_std.logTr',\n",
       " 'stop_signal.proactive_slowing_rt',\n",
       " 'stroop.avg_rt',\n",
       " 'stroop.stroop_acc.ReflogTr',\n",
       " 'stroop.stroop_rt',\n",
       " 'threebytwo.acc',\n",
       " 'threebytwo.avg_rt.logTr',\n",
       " 'threebytwo.cue_switch_cost_rt_100.0.logTr',\n",
       " 'threebytwo.cue_switch_cost_rt_900.0.logTr',\n",
       " 'threebytwo.task_switch_cost_rt_100.0',\n",
       " 'threebytwo.task_switch_cost_rt_900.0',\n",
       " 'two_stage_decision.avg_rt']"
      ]
     },
     "execution_count": 29,
     "metadata": {},
     "output_type": "execute_result"
    }
   ],
   "source": [
    "task_clean_rtACC_unique"
   ]
  },
  {
   "cell_type": "code",
   "execution_count": null,
   "metadata": {},
   "outputs": [],
   "source": [
    "task_clean_HDDM_unique = list(set(task_HDDm_clean) - set(task_rtACC_clean))\n",
    "task_clean_rtACC_unique = list(set(task_rtACC_clean) - set( task_HDDm_clean))"
   ]
  },
  {
   "cell_type": "code",
   "execution_count": null,
   "metadata": {},
   "outputs": [],
   "source": [
    "task_full_HDDM_unique = list(set(task_HDDm_full) - set(task_rtACC_full))\n",
    "task_full_rtACC_unique = list(set(task_rtACC_full) - set( task_HDDm_full))"
   ]
  },
  {
   "cell_type": "code",
   "execution_count": null,
   "metadata": {},
   "outputs": [],
   "source": [
    "print('HDDM unique')\n",
    "print(len(task_full_HDDM_unique))\n",
    "print(len(task_clean_HDDM_unique))\n",
    "print('rtACC Unique')\n",
    "print(len(task_full_rtACC_unique))\n",
    "print(len(task_clean_rtACC_unique))"
   ]
  },
  {
   "cell_type": "code",
   "execution_count": null,
   "metadata": {},
   "outputs": [],
   "source": [
    "task_full_rtACC_unique.sort()\n",
    "task_full_rtACC_unique"
   ]
  },
  {
   "cell_type": "code",
   "execution_count": null,
   "metadata": {},
   "outputs": [],
   "source": [
    "len(task_full_HDDM_unique)"
   ]
  },
  {
   "cell_type": "code",
   "execution_count": null,
   "metadata": {},
   "outputs": [],
   "source": [
    "HDDm_cleaning_lost = list(set(task_HDDm_full) - set(task_HDDm_clean))"
   ]
  },
  {
   "cell_type": "code",
   "execution_count": null,
   "metadata": {},
   "outputs": [],
   "source": [
    "rtACC_cleaning_lost = list(set(task_rtACC_full) - set(task_rtACC_clean))"
   ]
  },
  {
   "cell_type": "code",
   "execution_count": null,
   "metadata": {},
   "outputs": [],
   "source": [
    "set(HDDm_cleaning_lost) - set(rtACC_cleaning_lost)"
   ]
  },
  {
   "cell_type": "code",
   "execution_count": null,
   "metadata": {},
   "outputs": [],
   "source": [
    "# HDDm_cleaning_lost = list(set(task_HDDm_full) - set(tr_strip(task_HDDm_clean)))\n",
    "rtACC_cleaning_lost = list(set(task_rtACC_full) - set(tr_strip(task_rtACC_clean)))"
   ]
  },
  {
   "cell_type": "code",
   "execution_count": null,
   "metadata": {},
   "outputs": [],
   "source": [
    "print(len(rtACC_cleaning_lost))\n",
    "rtACC_cleaning_lost"
   ]
  },
  {
   "cell_type": "code",
   "execution_count": null,
   "metadata": {},
   "outputs": [],
   "source": [
    "len(task_rtACC_full)"
   ]
  },
  {
   "cell_type": "code",
   "execution_count": null,
   "metadata": {},
   "outputs": [],
   "source": [
    "(set(task_rtACC_full))"
   ]
  },
  {
   "cell_type": "code",
   "execution_count": null,
   "metadata": {},
   "outputs": [],
   "source": [
    "len(set(task_rtACC_clean))"
   ]
  },
  {
   "cell_type": "code",
   "execution_count": null,
   "metadata": {},
   "outputs": [],
   "source": [
    "set(tr_strip(task_rtACC_clean))"
   ]
  },
  {
   "cell_type": "code",
   "execution_count": null,
   "metadata": {},
   "outputs": [],
   "source": [
    "(set(task_rtACC_full)) - set(tr_strip(task_rtACC_clean))"
   ]
  },
  {
   "cell_type": "code",
   "execution_count": null,
   "metadata": {},
   "outputs": [],
   "source": []
  }
 ],
 "metadata": {
  "kernelspec": {
   "display_name": "Python 3",
   "language": "python",
   "name": "python3"
  },
  "language_info": {
   "codemirror_mode": {
    "name": "ipython",
    "version": 3
   },
   "file_extension": ".py",
   "mimetype": "text/x-python",
   "name": "python",
   "nbconvert_exporter": "python",
   "pygments_lexer": "ipython3",
   "version": "3.7.3"
  }
 },
 "nbformat": 4,
 "nbformat_minor": 4
}
